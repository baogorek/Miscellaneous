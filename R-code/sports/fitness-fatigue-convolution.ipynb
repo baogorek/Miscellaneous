{
 "cells": [
  {
   "cell_type": "markdown",
   "metadata": {},
   "source": [
    "Feature engineering cumulative impact\n",
    "================================\n",
    "*A companion notebook of R code to the articles:*\n",
    "\n",
    "* [Part I](TBD)\n",
    "* [Part II](TBD)\n",
    "\n",
    "# Part I"
   ]
  },
  {
   "cell_type": "code",
   "execution_count": 81,
   "metadata": {},
   "outputs": [],
   "source": [
    "library(dplyr)\n",
    "library(splines)\n",
    "library(ggplot2)"
   ]
  },
  {
   "cell_type": "markdown",
   "metadata": {},
   "source": [
    "## Movitating Articles\n",
    "\n",
    "[Fatigue and fitness modelled from the effects of training on performance](https://www.researchgate.net/profile/Robin_Candau/publication/15242395_Fatigue_and_fitness_modelled_from_the_effects_of_training_on_performance/links/55720f2608ae7536374cdc09/Fatigue-and-fitness-modelled-from-the-effects-of-training-on-performance.pdf) (Busso, Candau, and Lacour 1994, referred to as \"BCL94\" in the companion article\n",
    "\n",
    "[Modeling human performance in running](https://www.researchgate.net/publication/20910238_Modeling_human_performance_in_running) (Morton, Clarke and Banister 1990)\n",
    "\n",
    "[Convolution notes from MIT's Jeremy Orloff](https://math.mit.edu/~jorloff/suppnotes/suppnotes03/i.pdf)\n"
   ]
  },
  {
   "cell_type": "code",
   "execution_count": 82,
   "metadata": {},
   "outputs": [
    {
     "name": "stdout",
     "output_type": "stream",
     "text": [
      "Average training intensity during build up phase: 34.45 \n",
      "Average training intensity during competition phase: 23.55"
     ]
    },
    {
     "data": {},
     "metadata": {},
     "output_type": "display_data"
    },
    {
     "ename": "ERROR",
     "evalue": "Error in png(tf, width, height, \"in\", pointsize, bg, res, antialias = antialias): unable to start png() device\n",
     "output_type": "error",
     "traceback": [
      "Error in png(tf, width, height, \"in\", pointsize, bg, res, antialias = antialias): unable to start png() device\nTraceback:\n"
     ]
    },
    {
     "data": {
      "text/plain": [
       "plot without title"
      ]
     },
     "metadata": {},
     "output_type": "display_data"
    }
   ],
   "source": [
    "train_df <- data.frame(day = 1:259, day_of_week = 0:258 %% 7)\n",
    "train_df$period <- ifelse(train_df$day <= 147, \"build-up\", \"competition\")\n",
    "train_df$w <- with(train_df, w <-\n",
    "  -24 * (day_of_week == 0) +\n",
    "   12 * (day_of_week == 1) +\n",
    "    8 * (day_of_week == 2) +\n",
    "    0 * (day_of_week == 3) +\n",
    "    6 * (day_of_week == 4) +\n",
    "   -8 * (day_of_week == 5) +\n",
    "    6 * (day_of_week == 6))\n",
    "\n",
    "train_df$w <- rpois(nrow(train_df),\n",
    "                    train_df$w + ifelse(train_df$period == \"build-up\", 34, 24))\n",
    "\n",
    "cat(\"Average training intensity during build up phase:\",\n",
    "    round(mean(train_df$w[train_df$day <= 147]), 2), \"\\n\")\n",
    "cat(\"Average training intensity during competition phase:\",\n",
    "    round(mean(train_df$w[train_df$day > 147]), 2))\n",
    "\n",
    "ggplot(train_df, aes(x = day, y = w)) +\n",
    "  geom_bar(aes(fill = period), stat = \"identity\") +\n",
    "  ggtitle(\"Simulated daily training intensities for hammer thrower\") +\n",
    "  xlab(\"Day\") + ylab(\"Training intensity\") +\n",
    "  theme(text = element_text(size = 16))\n"
   ]
  },
  {
   "cell_type": "markdown",
   "metadata": {},
   "source": [
    "Fitness and Fatigue follow Exponential Decay: $g(t) = k \\exp(-t / τ)$"
   ]
  },
  {
   "cell_type": "code",
   "execution_count": null,
   "metadata": {},
   "outputs": [],
   "source": [
    "# Exponential decay and fitness-fatigue profiles\n",
    "exp_decay <- function(t, tau) {\n",
    "  exp(-t / tau)\n",
    "}\n",
    "\n",
    "grid_df <- rbind(data.frame(day = 1:259, level = 400 * exp_decay(1:259, 13),\n",
    "                            type = \"fatigue\"),\n",
    "                 data.frame(day = 1:259, level = 100 * exp_decay(1:259, 60),\n",
    "                            type = \"fitness\"))\n",
    "\n",
    "ggplot(grid_df, aes(x = day, y = level)) +\n",
    "  geom_line(aes(color = type), size = 1.5) +\n",
    "  ggtitle(\"Responses of fitness and fatigue to training impulse\") +\n",
    "  xlab(\"Day (n)\") + ylab(\"Level of fitness or fatigue\") +\n",
    "  theme(text = element_text(size = 16))\n"
   ]
  },
  {
   "cell_type": "markdown",
   "metadata": {},
   "source": [
    "The effect of either fitness or fatigue at a given point in time is expressed as a convolution\n",
    "of the training history with the relevant decay function:\n",
    "$$\n",
    "\\sum_{i=1}^{n-1} w_i \\exp \\left(\\frac{-(n-i)}{\\tau} \\right)\n",
    "$$"
   ]
  },
  {
   "cell_type": "code",
   "execution_count": null,
   "metadata": {},
   "outputs": [],
   "source": [
    "convolve_training <- function(training, n, tau) {\n",
    "  sum(training[1:(n - 1)] * exp_decay((n - 1):1, tau))\n",
    "}\n",
    "\n",
    "fitness <- sapply(1:nrow(train_df),\n",
    "                  function(n) convolve_training(train_df$w, n, 60))\n",
    "\n",
    "fatigue <- sapply(1:nrow(train_df),\n",
    "                  function(n) convolve_training(train_df$w, n, 13))\n"
   ]
  },
  {
   "cell_type": "markdown",
   "metadata": {},
   "source": [
    "The final expected performance function for our simulated hammer thrower is:\n",
    "$$\n",
    "\\text{E}(p_n) = 496 + 0.07 \\sum_{i=1}^{n-1} w_i \\exp \\left(\\frac{-(n-i)}{60} \\right) - 0.27 \\sum_{i=1}^{n-1} w_i \\exp \\left(\\frac{-(n-i)}{13} \\right) \n",
    "$$"
   ]
  },
  {
   "cell_type": "code",
   "execution_count": null,
   "metadata": {},
   "outputs": [],
   "source": [
    "E_perf <- 496 + .07 * fitness - .27 * fatigue\n",
    "\n",
    "set.seed(45345)\n",
    "train_df$perf <- E_perf + 7.0 * rnorm(nrow(train_df))\n",
    "\n",
    "components_df <- rbind(\n",
    "  data.frame(level = .27 * fatigue, day = train_df$day, type = \"fatigue\"),\n",
    "  data.frame(level = .07 *fitness, day = train_df$day, type = \"fitness\"),\n",
    "  data.frame(level = E_perf - 496, day = train_df$day, type = \"performance\"))\n",
    "\n",
    "ggplot(components_df, aes(x = day, y = level)) +\n",
    "  geom_col(data = train_df, aes(x = day, y = w), color = \"grey\", width = .2) +\n",
    "  geom_line(aes(color = type), size = 1.5) +\n",
    "  annotate(\"text\", label = \"training intensities\", x = 70, y = 25,\n",
    "           color = \"grey32\") +\n",
    "  ggtitle(\"Modeled fitness, fatigue and relative performance\") +\n",
    "  xlab(\"Day (n)\") + ylab(\"Component level on performance scale\") +\n",
    "  theme(text = element_text(size = 16))"
   ]
  },
  {
   "cell_type": "code",
   "execution_count": null,
   "metadata": {},
   "outputs": [],
   "source": [
    "# Recover parameters using non-linear regression\n",
    "rss <- function(theta) {\n",
    "  int  <- theta[1] # performance baseline\n",
    "  k1   <- theta[2] # fitness weight\n",
    "  k2   <- theta[3] # fatigue weight\n",
    "  tau1 <- theta[4] # fitness decay\n",
    "  tau2 <- theta[5] # fatigue decay\n",
    "\n",
    "  fitness <- sapply(1:nrow(train_df),\n",
    "                    function(n) convolve_training(train_df$w, n, tau1))\n",
    "\n",
    "  fatigue <- sapply(1:nrow(train_df),\n",
    "                    function(n) convolve_training(train_df$w, n, tau2))\n",
    "\n",
    "  perf_hat <- int + k1 * fitness - k2 * fatigue\n",
    "  return(sum((train_df$perf - perf_hat) ^ 2))\n",
    "}\n",
    "\n",
    "\n",
    "optim_results <- optim(c(400, .05, .15, 20, 5), rss, method = \"BFGS\",\n",
    "                       hessian = TRUE, control = list(maxit = 1000))\n",
    "                    \n",
    "print(optim_results$convergence) # 0 means algorithm as converged"
   ]
  },
  {
   "cell_type": "code",
   "execution_count": null,
   "metadata": {},
   "outputs": [],
   "source": [
    "VarCov <- solve(optim_results$hessian)\n",
    "parm_names <- c(\"baseline\", \"fitness weight\", \"fatigue weight\",\n",
    "                \"fitness time const\", \"fatigue time const\")\n",
    "for (i in 1:5) {\n",
    "  cat(parm_names[i], \"estimate:\", round(optim_results$par[i], 2),\n",
    "      \", std.err.:\", round(sqrt(diag(VarCov))[i], 2), \"\\n\")\n",
    "}"
   ]
  },
  {
   "cell_type": "code",
   "execution_count": null,
   "metadata": {},
   "outputs": [],
   "source": [
    "get_performance <- function(theta) {\n",
    "  int  <- theta[1] # performance baseline\n",
    "  k1   <- theta[2] # fitness weight\n",
    "  k2   <- theta[3] # fatigue weight\n",
    "  tau1 <- theta[4] # fitness decay\n",
    "  tau2 <- theta[5] # fatigue decay\n",
    "\n",
    "  fitness <- sapply(1:nrow(train_df),\n",
    "                    function(n) convolve_training(train_df$w, n, tau1))\n",
    "\n",
    "  fatigue <- sapply(1:nrow(train_df),\n",
    "                    function(n) convolve_training(train_df$w, n, tau2))\n",
    "\n",
    "  int + k1 * fitness - k2 * fatigue\n",
    "}\n",
    "                    \n",
    "train_df$perf_hat <- get_performance(optim_results$par)\n"
   ]
  },
  {
   "cell_type": "code",
   "execution_count": null,
   "metadata": {},
   "outputs": [],
   "source": [
    "ggplot(train_df) +\n",
    "  geom_point(aes(x = day, y = perf)) +\n",
    "  geom_line(aes(x = day, y = perf_hat), color = \"blue\", size = .9) +\n",
    "  ggtitle(\"Performance, observed and modeled\") +\n",
    "  xlab(\"Day (n)\") + ylab(\"Performance\") +\n",
    "  theme(text = element_text(size = 16))"
   ]
  },
  {
   "cell_type": "markdown",
   "metadata": {},
   "source": [
    "# Part II\n",
    "## Using splines to approximate the decay function\n",
    "\n",
    "In Part I, we had *fitness* and *fatigue* features of the form:\n",
    "$$\n",
    "\\sum_{i=1}^{n-1} w_i \\exp \\left(\\frac{-(n-i)}{\\tau} \\right),\n",
    "$$\n",
    "where the exponential decay of both fitness and fatige from initial levels arose from a first order linear dynamic system. But what if that model is not right? Suppose instead that the true \"decay function,\" which I'll hereby refer to as a \"lag distribution\" (See [Sims 1971](https://www.jstor.org/stable/1913265?seq=1#page_scan_tab_contents)) since it might be strictly decreasing, is an arbitrary smooth, continuous function $f(x)$. As a smooth, continuous function, $f(x)$ is a good candidate for approximation via basis functions taking the form\n",
    "$$\n",
    "\\eta(t) = \\theta_1 + \\sum_{j=2}^p \\theta_j g_j(t),\n",
    "$$\n",
    "and in this article we'll consider parametric cubic splines for the job. \n",
    "\n",
    "Consider our general purpose convolution-based feature\n",
    "$$r_s = \\sum_{i = 0} ^ {s-1} w_i \\eta(s - i), s = 1, \\ldots n$$.\n",
    "\n",
    "Expanding $\\eta(t)$ leads to\n",
    "$$\n",
    "r_s = \\theta_1 \\sum_{i=1}^{s-1}  w_i + \\sum_{j=2}^p \\theta_j \\sum_{i = 1}^{s-1} w_i g_j(s-i).\n",
    "$$\n",
    "\n",
    "Thus, implementing this convolution based feature amounts to a linear regression with the following $p$ covariates:\n",
    "\n",
    "\\begin{align*}\n",
    "z_1 &= \\theta_1 \\sum_{i=1}^{s-1} w_i, \\\\\n",
    "z_j &= \\sum_{i = 1}^{s-1} w_i g_j(s-i), \\; j = 2, \\ldots, p.\n",
    "\\end{align*}\n",
    "\n",
    "Having multiple convolution based covariates based on training intensity is reminiscent of *fitness* and *fatigue*, which were exponentials with different decay time constants convolved with training intensity. \n",
    "\n",
    "\n",
    "###TODO: confirm that equally spaced unit interval disclaimer is made in Part's 1 and 2.\n",
    "\n",
    "\n",
    "\n"
   ]
  },
  {
   "cell_type": "code",
   "execution_count": null,
   "metadata": {},
   "outputs": [],
   "source": [
    "combined_fn <- function(t) {\n",
    "  0.07 * exp_decay(t, 60) - 0.27 * exp_decay(t, 13)\n",
    "}\n",
    "\n",
    "combined_fn(1:259)\n",
    "plot(iris)\n"
   ]
  },
  {
   "cell_type": "code",
   "execution_count": null,
   "metadata": {},
   "outputs": [],
   "source": []
  },
  {
   "cell_type": "code",
   "execution_count": null,
   "metadata": {},
   "outputs": [],
   "source": []
  }
 ],
 "metadata": {
  "kernelspec": {
   "display_name": "R",
   "language": "R",
   "name": "ir"
  },
  "language_info": {
   "codemirror_mode": "r",
   "file_extension": ".r",
   "mimetype": "text/x-r-source",
   "name": "R",
   "pygments_lexer": "r",
   "version": "3.5.1"
  }
 },
 "nbformat": 4,
 "nbformat_minor": 2
}
